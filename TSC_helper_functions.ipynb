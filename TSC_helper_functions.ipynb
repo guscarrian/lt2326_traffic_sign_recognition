{
 "cells": [
  {
   "cell_type": "code",
   "execution_count": 7,
   "id": "a2d7925a",
   "metadata": {},
   "outputs": [],
   "source": [
    "ROOT_PATH = \"/home/guscarrian@GU.GU.SE/traffic_sign_classification/mini_GTSRB\"\n",
    "#datadir = os.path.join(ROOT_PATH, \"/data/images/\")"
   ]
  },
  {
   "cell_type": "code",
   "execution_count": 39,
   "id": "ce1998f5",
   "metadata": {},
   "outputs": [],
   "source": [
    "%matplotlib inline\n",
    "from PIL import Image\n",
    "import numpy as np\n",
    "import pandas as pd"
   ]
  },
  {
   "cell_type": "code",
   "execution_count": 8,
   "id": "057a7df5",
   "metadata": {},
   "outputs": [],
   "source": [
    "#Reading how many files there are in each folder in the big training dataset:\n",
    "import os\n",
    "datadir = \"/home/guscarrian@GU.GU.SE/traffic_sign_classification/mini_GTSRB/data/images/\"   \n",
    "\n",
    "def file_number(datadir):\n",
    "    \n",
    "    for folder in os.listdir(datadir):\n",
    "        lista = os.listdir(datadir + folder) # dir is your directory path\n",
    "        number_files = (len(lista) - 1)\n",
    "        print('files in folder', folder, ':', number_files)"
   ]
  },
  {
   "cell_type": "code",
   "execution_count": 9,
   "id": "6c41a2ed",
   "metadata": {},
   "outputs": [
    {
     "name": "stdout",
     "output_type": "stream",
     "text": [
      "files in folder 00000 : 210\n",
      "files in folder 00001 : 2220\n",
      "files in folder 00002 : 2250\n"
     ]
    }
   ],
   "source": [
    "file_number(data_dir)"
   ]
  },
  {
   "cell_type": "code",
   "execution_count": 10,
   "id": "569ba7c9",
   "metadata": {},
   "outputs": [],
   "source": [
    "#I've made a copy of the training data folder manually\n",
    "#Now we're creating a function that takes the first 200 images in each directory and remove the rest\n",
    "#since we won't use them.\n",
    "#From these 200 images --> the first 160 are for training, the next 40 are for testing\n",
    "\n",
    "def data_preparation(datadir):\n",
    "\n",
    "    #Obtenemos una lista con los paths de cada .csv file de cada directorio, para poder leer la información\n",
    "    #de los files que contienten\n",
    "    \n",
    "    list_of_paths = []\n",
    "\n",
    "    for folder, subfolders, files in os.walk(datadir):\n",
    "        for file in files:\n",
    "            if file.endswith('.csv'):\n",
    "                path = os.path.join(folder, file)\n",
    "                #print('path:', path)\n",
    "                list_of_paths.append(path)\n",
    "    \n",
    "    #print(list_of_paths)\n",
    "    \n",
    "    #Primero vamos path por path, buscamos los files csv, leemos y reescribimos para eliminar el header y\n",
    "    #quedarnos con los primeros 200 items en cada csv.\n",
    "    \n",
    "    for full_path in list_of_paths:\n",
    "        #print('full_path:', full_path)\n",
    "        with open(full_path, 'r+') as f:\n",
    "            print('full:', full_path)\n",
    "            lines = f.readlines()[1:]\n",
    "            #print('lines:', lines)\n",
    "            length = len(lines)\n",
    "            sub = length - 200 #substraction\n",
    "            #print('sub:', sub)\n",
    "            f.seek(0)\n",
    "            f.truncate()\n",
    "            f.writelines(lines[:-sub]) #removing the n elements in the csv since we only want 200 of them.\n",
    "    \n",
    "    #Obtenemos una lista con los 200 files que vamos a utilizar (files). \n",
    "    files = []\n",
    "    \n",
    "    for full_path in list_of_paths:\n",
    "        with open(full_path, 'r') as f:\n",
    "            lines = f.readlines()\n",
    "            for line in lines: #since all files share the same name in each folder (e.g.: all files 0 in each folder => 00000_00000.ppm)\n",
    "                if line[:15] not in files: #we're only adding each file_name once to 'files'\n",
    "                    files.append(line[:15])\n",
    "     \n",
    "\n",
    "    #Una vez tenemos la lista de files, vamos por cada directorio (00000, 00001, etc) y comprobamos si cada\n",
    "    # .ppm file está en files y si no está, lo eliminamos\n",
    "    for folder, subfolders, items in os.walk(datadir):\n",
    "        #print('subfolder:', subfolders)\n",
    "        for file in items:\n",
    "            # checking if file is\n",
    "            if file.endswith('.ppm'):\n",
    "                #print('file:', file)\n",
    "                file_path = os.path.join(folder, file)\n",
    "                #print('path:', file_path)\n",
    "                if file not in files: #if .ppm file not in between the first 200 files in csv, remove it!\n",
    "                    os.remove(file_path)\n",
    "    \n",
    "    #En este punto ya tenemos 200 .ppm files en cada directorio y 200 filenames in cada csv dentro de cada directorio"
   ]
  },
  {
   "cell_type": "code",
   "execution_count": 11,
   "id": "d80b64be",
   "metadata": {},
   "outputs": [
    {
     "name": "stdout",
     "output_type": "stream",
     "text": [
      "full: /home/guscarrian@GU.GU.SE/traffic_sign_classification/mini_GTSRB/data/images/00000/GT-00000.csv\n",
      "full: /home/guscarrian@GU.GU.SE/traffic_sign_classification/mini_GTSRB/data/images/00001/GT-00001.csv\n",
      "full: /home/guscarrian@GU.GU.SE/traffic_sign_classification/mini_GTSRB/data/images/00002/GT-00002.csv\n"
     ]
    }
   ],
   "source": [
    "#Preparando los directorios con los files y anotaciones que necesitamos antes de empezar a manipular datos\n",
    "data_preparation(datadir)"
   ]
  },
  {
   "cell_type": "code",
   "execution_count": 15,
   "id": "f5c44538",
   "metadata": {},
   "outputs": [],
   "source": [
    "#VOY A INTENTAR HACER UNA FUNCIÓN ALGO MÁS COMPLETA QUE SALVATION PORQUE ME ACABO DE DAR CUENTA DE QUE A LA HORA\n",
    "#DE EXTRAER LA CATEGORÍA TENGO UN PROBLEMA PORQUE YO ESTABA ELIGIENDO LOS ÍNDICES (item(32) PENSANDO QUE TODAS LAS\n",
    "#POSICIONES 32 DE CADA LÍNEA EN EL CSV INDICABAN LA CATEGORÍA PERO CUANDO LOS VALORES QUE OCURREN ANTES DE LA CAT\n",
    "#SON DE 3 CIFRAS, POR EJEMPLO, LA CATEGORÍA YA NO ESTÁ EN LA POSICIÓN 32.\n",
    "\n",
    "#LO QUE VOY A INTENTAR HACER ES MODIFICAR LA INFO DEL CSV PARA QUE SEPARE (SPLIT) POR LOS PUNTOS Y COMAS PARA CREAR\n",
    "#ELEMENTOS EN UNA LISTA EN VEZ DE UTILIZAR ÍNDICES. DE ESE MODO EL ELEMENTO X SIEMPRE VA A PERTENER A LA MISMA\n",
    "#CAT (WIDTH, HIGTH, FILENAME, ETC...).\n",
    "\n",
    "#FUNCIONA!!!\n",
    "def dict_filename_cats(data):\n",
    "    list_of_paths = []\n",
    "    output = []\n",
    "    for folder, subfolders, files in os.walk(data):\n",
    "        for file in files:\n",
    "            # checking if file is\n",
    "            if file.endswith('.csv'):\n",
    "                path = os.path.join(folder, file)\n",
    "                #print('path:', path)\n",
    "                list_of_paths.append(path)\n",
    "    #print(list_of_paths)\n",
    "    \n",
    "    for full_path in list_of_paths:\n",
    "        #print(full_path)\n",
    "        with open(full_path, 'r') as f:\n",
    "            lines = f.readlines()[1:] #SI LE QUITÉ EL HEADER ANTES A LO MEJOR AQUÍ NO HACE FALTA [1:]\n",
    "            #print('lines:', lines)\n",
    "            #print(len(lines))\n",
    "            for item in lines:\n",
    "                #print('item:', item)\n",
    "                cleaning = item.replace('\\n', '') #removing the \\n at the end of each line\n",
    "                #print('cleaning:', cleaning)\n",
    "                x = cleaning.split(\";\") #spliting the string where there're a ';' so we have items instead of a string\n",
    "                output.append({'file_name': x[0], 'category': x[7]})\n",
    "                #print('item:', item)\n",
    "                #print('x:', x)\n",
    "\n",
    "           \n",
    "    #print('output:', output)\n",
    "    #print(len(output))\n",
    "    #Eliminar los prints y añadir un return output\n",
    "    return output"
   ]
  },
  {
   "cell_type": "code",
   "execution_count": 16,
   "id": "703f4cdb",
   "metadata": {},
   "outputs": [],
   "source": [
    "metadata = dict_filename_cats(datadir)"
   ]
  },
  {
   "cell_type": "code",
   "execution_count": 46,
   "id": "64f5913a",
   "metadata": {},
   "outputs": [
    {
     "data": {
      "text/plain": [
       "597"
      ]
     },
     "execution_count": 46,
     "metadata": {},
     "output_type": "execute_result"
    }
   ],
   "source": [
    "len(metadata)"
   ]
  },
  {
   "cell_type": "code",
   "execution_count": 20,
   "id": "57f80a07",
   "metadata": {},
   "outputs": [],
   "source": [
    "#finding single dirs corresponding to different categories and creating a list of paths for each of them:\n",
    "#NUMBER 1\n",
    "def finding_single_dirs(training_dir):\n",
    "    dirs_list = []\n",
    "    \n",
    "    directories = [d for d in os.listdir(training_dir) \n",
    "                   if os.path.isdir(os.path.join(training_dir, d))]\n",
    "        \n",
    "    for d in directories:\n",
    "        single_directory = os.path.join(training_dir, d)\n",
    "        dirs_list.append(single_directory)\n",
    "     \n",
    "    #print(dirs_list)\n",
    "    return(dirs_list)"
   ]
  },
  {
   "cell_type": "code",
   "execution_count": 21,
   "id": "085fedd1",
   "metadata": {},
   "outputs": [],
   "source": [
    "single_paths = finding_single_dirs(datadir)"
   ]
  },
  {
   "cell_type": "code",
   "execution_count": 22,
   "id": "52bdda33",
   "metadata": {},
   "outputs": [
    {
     "data": {
      "text/plain": [
       "['/home/guscarrian@GU.GU.SE/traffic_sign_classification/mini_GTSRB/data/images/00000',\n",
       " '/home/guscarrian@GU.GU.SE/traffic_sign_classification/mini_GTSRB/data/images/00001',\n",
       " '/home/guscarrian@GU.GU.SE/traffic_sign_classification/mini_GTSRB/data/images/00002']"
      ]
     },
     "execution_count": 22,
     "metadata": {},
     "output_type": "execute_result"
    }
   ],
   "source": [
    "single_paths"
   ]
  },
  {
   "cell_type": "code",
   "execution_count": 34,
   "id": "5cbd8672",
   "metadata": {},
   "outputs": [],
   "source": [
    "def getting_PIL(meta, single_paths):\n",
    "    \n",
    "    elements = []\n",
    "    for path in single_paths: #por cada directorio in la lista de directorios (donde están las imágenes)\n",
    "        #print('path:', path)\n",
    "        for x in meta: #por item en la lista de elementos (e.g.: {'file_name': '00000_00005.ppm', 'category': '2'})\n",
    "            #print('file:', x)\n",
    "            #print('x_filename:', x['file_name'])\n",
    "            if x['file_name'] in os.listdir(path): #si ese elemento está en el path\n",
    "                elements.append([x['file_name'], Image.open(\"{}/{}\".format(path, x['file_name'])).resize((100,100))])\n",
    "    #print('ele:', elements)\n",
    "    return elements"
   ]
  },
  {
   "cell_type": "code",
   "execution_count": 35,
   "id": "4d647ccb",
   "metadata": {},
   "outputs": [],
   "source": [
    "x = getting_PIL(metadata, single_paths)"
   ]
  },
  {
   "cell_type": "code",
   "execution_count": 45,
   "id": "42fb717e",
   "metadata": {},
   "outputs": [
    {
     "data": {
      "text/plain": [
       "1791"
      ]
     },
     "execution_count": 45,
     "metadata": {},
     "output_type": "execute_result"
    }
   ],
   "source": [
    "len(x)"
   ]
  },
  {
   "cell_type": "code",
   "execution_count": 37,
   "id": "6b9e8020",
   "metadata": {},
   "outputs": [],
   "source": [
    "def getting_dataframes(meta, single_paths):\n",
    "    \n",
    "    x = len(single_paths)\n",
    "    #print('len_single_paths:', len(single_paths))\n",
    "    single_categories = [[] for i in range(x)] #create a list of lists, one per category (x = len(num_of_cats))\n",
    "    \n",
    "    for path in single_paths:\n",
    "        #print('path:', path)\n",
    "        for item in meta:\n",
    "            #print('item:', item)\n",
    "            #print('test:', path[-1])\n",
    "            if item['category'] == path[-1]:\n",
    "                single_categories[int(path[-1])].append(item)\n",
    "                \n",
    "    #print('single_categories:', single_categories)\n",
    "    pre_df = []\n",
    "    for item in single_categories:\n",
    "        data = getting_PIL(item, single_paths)\n",
    "        #print('data:', data)\n",
    "        pre_df.append(data)\n",
    "\n",
    "        \n",
    "    #YA SOLO QUEDA HACER UN DF POR CADA ITEM DE PRE_DF!!!\n",
    "    \n",
    "    collecting_dfs = [[] for i in range(x)]\n",
    "    \n",
    "    #print('pre_df:', pre_df)\n",
    "    for item in pre_df:\n",
    "        #print('item:', item)\n",
    "        index = pre_df.index(item)\n",
    "        #print('index:', index)\n",
    "        df = pd.DataFrame(item)\n",
    "        df['category'] = index\n",
    "        #print(dataframe)\n",
    "        collecting_dfs.append(df)\n",
    "    \n",
    "    \n",
    "    # ESTOY INTENTANDO ELIMINAR TODAS LAS LISTAS VACÍAS DE COLLECTING_DFS PERO ME ESTÁ DANDO MUCHO TRABAJO ESTO!\n",
    "    dataframes = collecting_dfs[3:] #Removing the first 3 elements since they're empty list\n",
    "    #dataframes = [i for i in collecting_dfs if i != []] #Remove any empty list and keep the dataframes (not working!)\n",
    "    \n",
    "    return dataframes[0], dataframes[1], dataframes[2]"
   ]
  },
  {
   "cell_type": "code",
   "execution_count": 40,
   "id": "08fe965f",
   "metadata": {},
   "outputs": [],
   "source": [
    "df0, df1, df2 = getting_dataframes(metadata, single_paths)"
   ]
  },
  {
   "cell_type": "code",
   "execution_count": 49,
   "id": "671ff41a",
   "metadata": {},
   "outputs": [
    {
     "data": {
      "text/html": [
       "<div>\n",
       "<style scoped>\n",
       "    .dataframe tbody tr th:only-of-type {\n",
       "        vertical-align: middle;\n",
       "    }\n",
       "\n",
       "    .dataframe tbody tr th {\n",
       "        vertical-align: top;\n",
       "    }\n",
       "\n",
       "    .dataframe thead th {\n",
       "        text-align: right;\n",
       "    }\n",
       "</style>\n",
       "<table border=\"1\" class=\"dataframe\">\n",
       "  <thead>\n",
       "    <tr style=\"text-align: right;\">\n",
       "      <th></th>\n",
       "      <th>0</th>\n",
       "      <th>1</th>\n",
       "      <th>category</th>\n",
       "    </tr>\n",
       "  </thead>\n",
       "  <tbody>\n",
       "    <tr>\n",
       "      <th>0</th>\n",
       "      <td>00000_00001.ppm</td>\n",
       "      <td>&lt;PIL.Image.Image image mode=RGB size=100x100 a...</td>\n",
       "      <td>0</td>\n",
       "    </tr>\n",
       "    <tr>\n",
       "      <th>1</th>\n",
       "      <td>00000_00002.ppm</td>\n",
       "      <td>&lt;PIL.Image.Image image mode=RGB size=100x100 a...</td>\n",
       "      <td>0</td>\n",
       "    </tr>\n",
       "    <tr>\n",
       "      <th>2</th>\n",
       "      <td>00000_00003.ppm</td>\n",
       "      <td>&lt;PIL.Image.Image image mode=RGB size=100x100 a...</td>\n",
       "      <td>0</td>\n",
       "    </tr>\n",
       "    <tr>\n",
       "      <th>3</th>\n",
       "      <td>00000_00004.ppm</td>\n",
       "      <td>&lt;PIL.Image.Image image mode=RGB size=100x100 a...</td>\n",
       "      <td>0</td>\n",
       "    </tr>\n",
       "    <tr>\n",
       "      <th>4</th>\n",
       "      <td>00000_00005.ppm</td>\n",
       "      <td>&lt;PIL.Image.Image image mode=RGB size=100x100 a...</td>\n",
       "      <td>0</td>\n",
       "    </tr>\n",
       "    <tr>\n",
       "      <th>...</th>\n",
       "      <td>...</td>\n",
       "      <td>...</td>\n",
       "      <td>...</td>\n",
       "    </tr>\n",
       "    <tr>\n",
       "      <th>592</th>\n",
       "      <td>00006_00015.ppm</td>\n",
       "      <td>&lt;PIL.Image.Image image mode=RGB size=100x100 a...</td>\n",
       "      <td>0</td>\n",
       "    </tr>\n",
       "    <tr>\n",
       "      <th>593</th>\n",
       "      <td>00006_00016.ppm</td>\n",
       "      <td>&lt;PIL.Image.Image image mode=RGB size=100x100 a...</td>\n",
       "      <td>0</td>\n",
       "    </tr>\n",
       "    <tr>\n",
       "      <th>594</th>\n",
       "      <td>00006_00017.ppm</td>\n",
       "      <td>&lt;PIL.Image.Image image mode=RGB size=100x100 a...</td>\n",
       "      <td>0</td>\n",
       "    </tr>\n",
       "    <tr>\n",
       "      <th>595</th>\n",
       "      <td>00006_00018.ppm</td>\n",
       "      <td>&lt;PIL.Image.Image image mode=RGB size=100x100 a...</td>\n",
       "      <td>0</td>\n",
       "    </tr>\n",
       "    <tr>\n",
       "      <th>596</th>\n",
       "      <td>00006_00019.ppm</td>\n",
       "      <td>&lt;PIL.Image.Image image mode=RGB size=100x100 a...</td>\n",
       "      <td>0</td>\n",
       "    </tr>\n",
       "  </tbody>\n",
       "</table>\n",
       "<p>597 rows × 3 columns</p>\n",
       "</div>"
      ],
      "text/plain": [
       "                   0                                                  1  \\\n",
       "0    00000_00001.ppm  <PIL.Image.Image image mode=RGB size=100x100 a...   \n",
       "1    00000_00002.ppm  <PIL.Image.Image image mode=RGB size=100x100 a...   \n",
       "2    00000_00003.ppm  <PIL.Image.Image image mode=RGB size=100x100 a...   \n",
       "3    00000_00004.ppm  <PIL.Image.Image image mode=RGB size=100x100 a...   \n",
       "4    00000_00005.ppm  <PIL.Image.Image image mode=RGB size=100x100 a...   \n",
       "..               ...                                                ...   \n",
       "592  00006_00015.ppm  <PIL.Image.Image image mode=RGB size=100x100 a...   \n",
       "593  00006_00016.ppm  <PIL.Image.Image image mode=RGB size=100x100 a...   \n",
       "594  00006_00017.ppm  <PIL.Image.Image image mode=RGB size=100x100 a...   \n",
       "595  00006_00018.ppm  <PIL.Image.Image image mode=RGB size=100x100 a...   \n",
       "596  00006_00019.ppm  <PIL.Image.Image image mode=RGB size=100x100 a...   \n",
       "\n",
       "     category  \n",
       "0           0  \n",
       "1           0  \n",
       "2           0  \n",
       "3           0  \n",
       "4           0  \n",
       "..        ...  \n",
       "592         0  \n",
       "593         0  \n",
       "594         0  \n",
       "595         0  \n",
       "596         0  \n",
       "\n",
       "[597 rows x 3 columns]"
      ]
     },
     "execution_count": 49,
     "metadata": {},
     "output_type": "execute_result"
    }
   ],
   "source": [
    "df2"
   ]
  },
  {
   "cell_type": "code",
   "execution_count": 42,
   "id": "810177af",
   "metadata": {},
   "outputs": [],
   "source": [
    "#This function receives a dataframe as input and returns the data of the dataframe split in train and test datasets\n",
    "def splitting_train_test(dataframe):\n",
    "    #train = []\n",
    "    #test = []\n",
    "    train = dataframe[:20] #cambiar según la división train/test que se quiera lograr\n",
    "    test = dataframe[20:]\n",
    "    #print(train)\n",
    "    return train, test"
   ]
  },
  {
   "cell_type": "code",
   "execution_count": 43,
   "id": "c00709e2",
   "metadata": {},
   "outputs": [],
   "source": [
    "#For each dataframe (each directory) we split train and test data by using spliting train:\n",
    "train_df0, test_df0 = splitting_train_test(df0)\n",
    "train_df1, test_df1 = splitting_train_test(df1)\n",
    "train_df2, test_df2 = splitting_train_test(df2)"
   ]
  },
  {
   "cell_type": "code",
   "execution_count": 44,
   "id": "c55b4662",
   "metadata": {},
   "outputs": [
    {
     "data": {
      "text/html": [
       "<div>\n",
       "<style scoped>\n",
       "    .dataframe tbody tr th:only-of-type {\n",
       "        vertical-align: middle;\n",
       "    }\n",
       "\n",
       "    .dataframe tbody tr th {\n",
       "        vertical-align: top;\n",
       "    }\n",
       "\n",
       "    .dataframe thead th {\n",
       "        text-align: right;\n",
       "    }\n",
       "</style>\n",
       "<table border=\"1\" class=\"dataframe\">\n",
       "  <thead>\n",
       "    <tr style=\"text-align: right;\">\n",
       "      <th></th>\n",
       "      <th>0</th>\n",
       "      <th>1</th>\n",
       "      <th>category</th>\n",
       "    </tr>\n",
       "  </thead>\n",
       "  <tbody>\n",
       "    <tr>\n",
       "      <th>0</th>\n",
       "      <td>00000_00001.ppm</td>\n",
       "      <td>&lt;PIL.Image.Image image mode=RGB size=100x100 a...</td>\n",
       "      <td>0</td>\n",
       "    </tr>\n",
       "    <tr>\n",
       "      <th>1</th>\n",
       "      <td>00000_00002.ppm</td>\n",
       "      <td>&lt;PIL.Image.Image image mode=RGB size=100x100 a...</td>\n",
       "      <td>0</td>\n",
       "    </tr>\n",
       "    <tr>\n",
       "      <th>2</th>\n",
       "      <td>00000_00003.ppm</td>\n",
       "      <td>&lt;PIL.Image.Image image mode=RGB size=100x100 a...</td>\n",
       "      <td>0</td>\n",
       "    </tr>\n",
       "    <tr>\n",
       "      <th>3</th>\n",
       "      <td>00000_00004.ppm</td>\n",
       "      <td>&lt;PIL.Image.Image image mode=RGB size=100x100 a...</td>\n",
       "      <td>0</td>\n",
       "    </tr>\n",
       "    <tr>\n",
       "      <th>4</th>\n",
       "      <td>00000_00005.ppm</td>\n",
       "      <td>&lt;PIL.Image.Image image mode=RGB size=100x100 a...</td>\n",
       "      <td>0</td>\n",
       "    </tr>\n",
       "    <tr>\n",
       "      <th>5</th>\n",
       "      <td>00000_00006.ppm</td>\n",
       "      <td>&lt;PIL.Image.Image image mode=RGB size=100x100 a...</td>\n",
       "      <td>0</td>\n",
       "    </tr>\n",
       "    <tr>\n",
       "      <th>6</th>\n",
       "      <td>00000_00007.ppm</td>\n",
       "      <td>&lt;PIL.Image.Image image mode=RGB size=100x100 a...</td>\n",
       "      <td>0</td>\n",
       "    </tr>\n",
       "    <tr>\n",
       "      <th>7</th>\n",
       "      <td>00000_00008.ppm</td>\n",
       "      <td>&lt;PIL.Image.Image image mode=RGB size=100x100 a...</td>\n",
       "      <td>0</td>\n",
       "    </tr>\n",
       "    <tr>\n",
       "      <th>8</th>\n",
       "      <td>00000_00009.ppm</td>\n",
       "      <td>&lt;PIL.Image.Image image mode=RGB size=100x100 a...</td>\n",
       "      <td>0</td>\n",
       "    </tr>\n",
       "    <tr>\n",
       "      <th>9</th>\n",
       "      <td>00000_00010.ppm</td>\n",
       "      <td>&lt;PIL.Image.Image image mode=RGB size=100x100 a...</td>\n",
       "      <td>0</td>\n",
       "    </tr>\n",
       "    <tr>\n",
       "      <th>10</th>\n",
       "      <td>00000_00011.ppm</td>\n",
       "      <td>&lt;PIL.Image.Image image mode=RGB size=100x100 a...</td>\n",
       "      <td>0</td>\n",
       "    </tr>\n",
       "    <tr>\n",
       "      <th>11</th>\n",
       "      <td>00000_00012.ppm</td>\n",
       "      <td>&lt;PIL.Image.Image image mode=RGB size=100x100 a...</td>\n",
       "      <td>0</td>\n",
       "    </tr>\n",
       "    <tr>\n",
       "      <th>12</th>\n",
       "      <td>00000_00013.ppm</td>\n",
       "      <td>&lt;PIL.Image.Image image mode=RGB size=100x100 a...</td>\n",
       "      <td>0</td>\n",
       "    </tr>\n",
       "    <tr>\n",
       "      <th>13</th>\n",
       "      <td>00000_00014.ppm</td>\n",
       "      <td>&lt;PIL.Image.Image image mode=RGB size=100x100 a...</td>\n",
       "      <td>0</td>\n",
       "    </tr>\n",
       "    <tr>\n",
       "      <th>14</th>\n",
       "      <td>00000_00015.ppm</td>\n",
       "      <td>&lt;PIL.Image.Image image mode=RGB size=100x100 a...</td>\n",
       "      <td>0</td>\n",
       "    </tr>\n",
       "    <tr>\n",
       "      <th>15</th>\n",
       "      <td>00000_00016.ppm</td>\n",
       "      <td>&lt;PIL.Image.Image image mode=RGB size=100x100 a...</td>\n",
       "      <td>0</td>\n",
       "    </tr>\n",
       "    <tr>\n",
       "      <th>16</th>\n",
       "      <td>00000_00017.ppm</td>\n",
       "      <td>&lt;PIL.Image.Image image mode=RGB size=100x100 a...</td>\n",
       "      <td>0</td>\n",
       "    </tr>\n",
       "    <tr>\n",
       "      <th>17</th>\n",
       "      <td>00000_00018.ppm</td>\n",
       "      <td>&lt;PIL.Image.Image image mode=RGB size=100x100 a...</td>\n",
       "      <td>0</td>\n",
       "    </tr>\n",
       "    <tr>\n",
       "      <th>18</th>\n",
       "      <td>00000_00019.ppm</td>\n",
       "      <td>&lt;PIL.Image.Image image mode=RGB size=100x100 a...</td>\n",
       "      <td>0</td>\n",
       "    </tr>\n",
       "    <tr>\n",
       "      <th>19</th>\n",
       "      <td>00000_00020.ppm</td>\n",
       "      <td>&lt;PIL.Image.Image image mode=RGB size=100x100 a...</td>\n",
       "      <td>0</td>\n",
       "    </tr>\n",
       "  </tbody>\n",
       "</table>\n",
       "</div>"
      ],
      "text/plain": [
       "                  0                                                  1  \\\n",
       "0   00000_00001.ppm  <PIL.Image.Image image mode=RGB size=100x100 a...   \n",
       "1   00000_00002.ppm  <PIL.Image.Image image mode=RGB size=100x100 a...   \n",
       "2   00000_00003.ppm  <PIL.Image.Image image mode=RGB size=100x100 a...   \n",
       "3   00000_00004.ppm  <PIL.Image.Image image mode=RGB size=100x100 a...   \n",
       "4   00000_00005.ppm  <PIL.Image.Image image mode=RGB size=100x100 a...   \n",
       "5   00000_00006.ppm  <PIL.Image.Image image mode=RGB size=100x100 a...   \n",
       "6   00000_00007.ppm  <PIL.Image.Image image mode=RGB size=100x100 a...   \n",
       "7   00000_00008.ppm  <PIL.Image.Image image mode=RGB size=100x100 a...   \n",
       "8   00000_00009.ppm  <PIL.Image.Image image mode=RGB size=100x100 a...   \n",
       "9   00000_00010.ppm  <PIL.Image.Image image mode=RGB size=100x100 a...   \n",
       "10  00000_00011.ppm  <PIL.Image.Image image mode=RGB size=100x100 a...   \n",
       "11  00000_00012.ppm  <PIL.Image.Image image mode=RGB size=100x100 a...   \n",
       "12  00000_00013.ppm  <PIL.Image.Image image mode=RGB size=100x100 a...   \n",
       "13  00000_00014.ppm  <PIL.Image.Image image mode=RGB size=100x100 a...   \n",
       "14  00000_00015.ppm  <PIL.Image.Image image mode=RGB size=100x100 a...   \n",
       "15  00000_00016.ppm  <PIL.Image.Image image mode=RGB size=100x100 a...   \n",
       "16  00000_00017.ppm  <PIL.Image.Image image mode=RGB size=100x100 a...   \n",
       "17  00000_00018.ppm  <PIL.Image.Image image mode=RGB size=100x100 a...   \n",
       "18  00000_00019.ppm  <PIL.Image.Image image mode=RGB size=100x100 a...   \n",
       "19  00000_00020.ppm  <PIL.Image.Image image mode=RGB size=100x100 a...   \n",
       "\n",
       "    category  \n",
       "0          0  \n",
       "1          0  \n",
       "2          0  \n",
       "3          0  \n",
       "4          0  \n",
       "5          0  \n",
       "6          0  \n",
       "7          0  \n",
       "8          0  \n",
       "9          0  \n",
       "10         0  \n",
       "11         0  \n",
       "12         0  \n",
       "13         0  \n",
       "14         0  \n",
       "15         0  \n",
       "16         0  \n",
       "17         0  \n",
       "18         0  \n",
       "19         0  "
      ]
     },
     "execution_count": 44,
     "metadata": {},
     "output_type": "execute_result"
    }
   ],
   "source": [
    "train_df0"
   ]
  },
  {
   "cell_type": "code",
   "execution_count": null,
   "id": "67d25ab1",
   "metadata": {},
   "outputs": [],
   "source": [
    "#Concatenating all individual dataframe \n",
    "multi_train_df = pd.concat([train_df0, train_df1, train_df2])\n",
    "multi_test_df = pd.concat([test_df0, test_df1, test_df2])"
   ]
  },
  {
   "cell_type": "code",
   "execution_count": null,
   "id": "d7efa703",
   "metadata": {},
   "outputs": [],
   "source": [
    "#We're going to convert everything to RGB to avoid any problem since all the arrays must have the same number\n",
    "#of dimensions. We need the data to share the same features.\n",
    "\n",
    "multi_train_df['images'] = multi_train_df[1].apply(lambda x: x.convert('RGB'))"
   ]
  },
  {
   "cell_type": "code",
   "execution_count": null,
   "id": "7cd56dfd",
   "metadata": {},
   "outputs": [],
   "source": [
    "#We're going to put together all the arrays that are in the dataframe (train_df). \n",
    "#We're going to take each image (from 'images') and we're going to turn it into a numpy array.\n",
    "\n",
    "images_to_array = np.array([np.array(x) for x in train_df['images']])"
   ]
  },
  {
   "cell_type": "code",
   "execution_count": null,
   "id": "cafc36f9",
   "metadata": {},
   "outputs": [],
   "source": [
    "images_to_array.shape"
   ]
  },
  {
   "cell_type": "code",
   "execution_count": null,
   "id": "030c573a",
   "metadata": {},
   "outputs": [],
   "source": [
    "#SCALING AND STANDARDIZING THE DATA:\n",
    "#Since we're working with convolutional layers, we need to scale the data.\n",
    "#The values have to be of a small range.\n",
    "#We're going to use sklearn's StandardScaler.\n",
    "from sklearn.preprocessing import StandardScaler"
   ]
  },
  {
   "cell_type": "code",
   "execution_count": null,
   "id": "cb549974",
   "metadata": {},
   "outputs": [],
   "source": [
    "#HASTA AQUÍ TENGO DE MOMENTO"
   ]
  }
 ],
 "metadata": {
  "kernelspec": {
   "display_name": "Python 3 (ipykernel)",
   "language": "python",
   "name": "python3"
  },
  "language_info": {
   "codemirror_mode": {
    "name": "ipython",
    "version": 3
   },
   "file_extension": ".py",
   "mimetype": "text/x-python",
   "name": "python",
   "nbconvert_exporter": "python",
   "pygments_lexer": "ipython3",
   "version": "3.9.6"
  }
 },
 "nbformat": 4,
 "nbformat_minor": 5
}
